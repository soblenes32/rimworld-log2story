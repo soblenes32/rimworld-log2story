{
 "cells": [
  {
   "cell_type": "code",
   "execution_count": null,
   "metadata": {},
   "outputs": [],
   "source": [
    "# Set global variables\n",
    "LOG_ROOT = '/path/to/logs'\n",
    "OPENAI_API_KEY = 'YOUR_OPENAI_API_KEY'\n"
   ]
  },
  {
   "cell_type": "code",
   "execution_count": null,
   "metadata": {},
   "outputs": [],
   "source": [
    "# Import helper functions\n",
    "from src import log_loader, complete_prompt\n",
    "# Additional imports can be added here\n"
   ]
  },
  {
   "cell_type": "code",
   "execution_count": null,
   "metadata": {},
   "outputs": [],
   "source": [
    "# Load log data\n",
    "output_log = log_loader.load_output_log(LOG_ROOT)\n",
    "player_log = log_loader.load_player_log(LOG_ROOT)\n",
    "\n",
    "# Assemble prompt from logs\n",
    "prompt = output_log + '\n' + player_log\n",
    "result = complete_prompt(OPENAI_API_KEY, prompt)\n",
    "print(result)\n"
   ]
  }
 ],
 "metadata": {},
 "nbformat": 4,
 "nbformat_minor": 5
}
